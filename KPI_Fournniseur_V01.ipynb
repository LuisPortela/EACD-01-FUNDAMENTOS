{
  "nbformat": 4,
  "nbformat_minor": 0,
  "metadata": {
    "colab": {
      "name": "KPI_Fournniseur_V01.ipynb",
      "provenance": [],
      "collapsed_sections": [],
      "authorship_tag": "ABX9TyPo+mgIaduPD8mdEhS4GzCx",
      "include_colab_link": true
    },
    "kernelspec": {
      "name": "python3",
      "display_name": "Python 3"
    },
    "language_info": {
      "name": "python"
    }
  },
  "cells": [
    {
      "cell_type": "markdown",
      "metadata": {
        "id": "view-in-github",
        "colab_type": "text"
      },
      "source": [
        "<a href=\"https://colab.research.google.com/github/LuisPortela/EACD-01-FUNDAMENTOS/blob/master/KPI_Fournniseur_V01.ipynb\" target=\"_parent\"><img src=\"https://colab.research.google.com/assets/colab-badge.svg\" alt=\"Open In Colab\"/></a>"
      ]
    },
    {
      "cell_type": "code",
      "metadata": {
        "id": "hxGJuiRV_APN"
      },
      "source": [
        "import pandas as pd\n",
        "import seaborn as sns\n",
        "import numpy as np\n",
        "import matplotlib.pyplot as plt\n",
        "%matplotlib inline"
      ],
      "execution_count": null,
      "outputs": []
    },
    {
      "cell_type": "code",
      "metadata": {
        "id": "Rbla_t-4t5wr"
      },
      "source": [
        "Test=pd.read_csv(\"DM000008.csv\",sep=';', encoding='latin-1', parse_dates=True, decimal = ',')  "
      ],
      "execution_count": null,
      "outputs": []
    },
    {
      "cell_type": "code",
      "metadata": {
        "colab": {
          "base_uri": "https://localhost:8080/"
        },
        "id": "3XZN_uWaMw6s",
        "outputId": "621b0fae-e76a-463e-975a-db18e11fd644"
      },
      "source": [
        "Test.columns"
      ],
      "execution_count": null,
      "outputs": [
        {
          "output_type": "execute_result",
          "data": {
            "text/plain": [
              "Index(['Fournisseur', 'Lignes_SUCF', 'Numero_SUCF', 'Categorie', 'Article',\n",
              "       'Designation_1', 'Designation_2', 'Designation_3', 'Date_Commande',\n",
              "       'Quantite_commandee', 'Date_reception_demandee', 'Annee_Reception',\n",
              "       'Date_reception_confirmee', 'Ligne_soldee', 'Comande_soldee',\n",
              "       'Lignes_reception', 'Numero_reception', 'Date_reception',\n",
              "       'Quantites_receptionnees', 'Difference_date', 'Unnamed: 20'],\n",
              "      dtype='object')"
            ]
          },
          "metadata": {},
          "execution_count": 3
        }
      ]
    },
    {
      "cell_type": "code",
      "metadata": {
        "id": "c2o1z6Y7MuV0"
      },
      "source": [
        "Test=Test.drop(columns=['Unnamed: 20'])"
      ],
      "execution_count": null,
      "outputs": []
    },
    {
      "cell_type": "code",
      "metadata": {
        "id": "hhUC2-RjyXKT"
      },
      "source": [
        "Test['Date_Commande'] = pd.to_datetime(Test['Date_Commande'], dayfirst=True)"
      ],
      "execution_count": null,
      "outputs": []
    },
    {
      "cell_type": "code",
      "metadata": {
        "id": "zeA-4TXYyhxd"
      },
      "source": [
        "Test['Date_reception_demandee'] = pd.to_datetime(Test['Date_reception_demandee'], dayfirst=True)"
      ],
      "execution_count": null,
      "outputs": []
    },
    {
      "cell_type": "code",
      "metadata": {
        "id": "mCGXrBG-ypTy"
      },
      "source": [
        "Test['Date_reception_confirmee'] = pd.to_datetime(Test['Date_reception_confirmee'], dayfirst=True)"
      ],
      "execution_count": null,
      "outputs": []
    },
    {
      "cell_type": "code",
      "metadata": {
        "id": "XXorf98CywSd"
      },
      "source": [
        "Test['Date_reception'] = pd.to_datetime(Test['Date_reception'], dayfirst=True)"
      ],
      "execution_count": null,
      "outputs": []
    },
    {
      "cell_type": "code",
      "metadata": {
        "colab": {
          "base_uri": "https://localhost:8080/"
        },
        "id": "lU1eJrkmOImE",
        "outputId": "404b5efa-4b31-4afc-d551-0fef1e6e6bef"
      },
      "source": [
        "Test.columns"
      ],
      "execution_count": null,
      "outputs": [
        {
          "output_type": "execute_result",
          "data": {
            "text/plain": [
              "Index(['Fournisseur', 'Lignes_SUCF', 'Numero_SUCF', 'Categorie', 'Article',\n",
              "       'Designation_1', 'Designation_2', 'Designation_3', 'Date_Commande',\n",
              "       'Quantite_commandee', 'Date_reception_demandee', 'Annee_Reception',\n",
              "       'Date_reception_confirmee', 'Ligne_soldee', 'Comande_soldee',\n",
              "       'Lignes_reception', 'Numero_reception', 'Date_reception',\n",
              "       'Quantites_receptionnees', 'Difference_date'],\n",
              "      dtype='object')"
            ]
          },
          "metadata": {},
          "execution_count": 9
        }
      ]
    },
    {
      "cell_type": "code",
      "metadata": {
        "id": "rF8kmTo0AfMn"
      },
      "source": [
        "DF_VF_GB=Test.groupby([\"Fournisseur\", \"Numero_SUCF\", \"Categorie\", \"Article\", \"Designation_1\",  \"Designation_2\", \"Designation_3\", \"Ligne_soldee\",\"Comande_soldee\" ], as_index=False)\\\n",
        "                      .agg(Lignes_SUCF=('Lignes_SUCF',np.count_nonzero), \\\n",
        "                           Date_commande=('Date_Commande',np.max),\\\n",
        "                           Quantite_commandee=('Quantite_commandee',np.sum),\\\n",
        "                           Date_reception_demandee =('Date_reception_demandee',np.max), \\\n",
        "                           Annee_Reception =('Annee_Reception',np.max), \\\n",
        "                           Date_reception_confirmee =('Date_reception_confirmee',np.max), \\\n",
        "                           Lignes_reception =('Lignes_reception',np.count_nonzero), \\\n",
        "                           Numero_reception =('Numero_reception',np.count_nonzero), \\\n",
        "                           Date_reception =('Date_reception',np.max), \\\n",
        "                           Quantites_receptionnees =('Quantites_receptionnees',np.sum), \\\n",
        "                           Difference_date =('Difference_date',np.min), \\\n",
        "                      )"
      ],
      "execution_count": null,
      "outputs": []
    },
    {
      "cell_type": "code",
      "metadata": {
        "colab": {
          "base_uri": "https://localhost:8080/",
          "height": 117
        },
        "id": "Trtg0qFd8jLS",
        "outputId": "14b7353e-5b68-44af-9589-05c6580c981d"
      },
      "source": [
        "DF_VF_GB.head(1)"
      ],
      "execution_count": null,
      "outputs": [
        {
          "output_type": "execute_result",
          "data": {
            "text/html": [
              "<div>\n",
              "<style scoped>\n",
              "    .dataframe tbody tr th:only-of-type {\n",
              "        vertical-align: middle;\n",
              "    }\n",
              "\n",
              "    .dataframe tbody tr th {\n",
              "        vertical-align: top;\n",
              "    }\n",
              "\n",
              "    .dataframe thead th {\n",
              "        text-align: right;\n",
              "    }\n",
              "</style>\n",
              "<table border=\"1\" class=\"dataframe\">\n",
              "  <thead>\n",
              "    <tr style=\"text-align: right;\">\n",
              "      <th></th>\n",
              "      <th>Fournisseur</th>\n",
              "      <th>Numero_SUCF</th>\n",
              "      <th>Categorie</th>\n",
              "      <th>Article</th>\n",
              "      <th>Designation_1</th>\n",
              "      <th>Designation_2</th>\n",
              "      <th>Designation_3</th>\n",
              "      <th>Ligne_soldee</th>\n",
              "      <th>Comande_soldee</th>\n",
              "      <th>Lignes_SUCF</th>\n",
              "      <th>Date_commande</th>\n",
              "      <th>Quantite_commandee</th>\n",
              "      <th>Date_reception_demandee</th>\n",
              "      <th>Annee_Reception</th>\n",
              "      <th>Date_reception_confirmee</th>\n",
              "      <th>Lignes_reception</th>\n",
              "      <th>Numero_reception</th>\n",
              "      <th>Date_reception</th>\n",
              "      <th>Quantites_receptionnees</th>\n",
              "      <th>Difference_date</th>\n",
              "    </tr>\n",
              "  </thead>\n",
              "  <tbody>\n",
              "    <tr>\n",
              "      <th>0</th>\n",
              "      <td>ACS Dobfar S.p.A</td>\n",
              "      <td>SUCF082035</td>\n",
              "      <td>PF</td>\n",
              "      <td>P00903</td>\n",
              "      <td>Meropenem 1g</td>\n",
              "      <td>bte 10</td>\n",
              "      <td>Substipharm FR</td>\n",
              "      <td>Oui</td>\n",
              "      <td>Oui</td>\n",
              "      <td>1</td>\n",
              "      <td>2021-07-02</td>\n",
              "      <td>2560</td>\n",
              "      <td>2021-07-20</td>\n",
              "      <td>2021</td>\n",
              "      <td>2021-07-20</td>\n",
              "      <td>1</td>\n",
              "      <td>1</td>\n",
              "      <td>2021-07-29</td>\n",
              "      <td>2631.0</td>\n",
              "      <td>-9</td>\n",
              "    </tr>\n",
              "  </tbody>\n",
              "</table>\n",
              "</div>"
            ],
            "text/plain": [
              "        Fournisseur Numero_SUCF  ... Quantites_receptionnees Difference_date\n",
              "0  ACS Dobfar S.p.A  SUCF082035  ...                  2631.0              -9\n",
              "\n",
              "[1 rows x 20 columns]"
            ]
          },
          "metadata": {},
          "execution_count": 11
        }
      ]
    },
    {
      "cell_type": "code",
      "metadata": {
        "colab": {
          "base_uri": "https://localhost:8080/"
        },
        "id": "cxI7q_PQWf_J",
        "outputId": "3a419879-1ad3-4cd8-8e3d-9868a8459aab"
      },
      "source": [
        "DF_VF_GB.columns"
      ],
      "execution_count": null,
      "outputs": [
        {
          "output_type": "execute_result",
          "data": {
            "text/plain": [
              "Index(['Fournisseur', 'Numero_SUCF', 'Categorie', 'Article', 'Designation_1',\n",
              "       'Designation_2', 'Designation_3', 'Ligne_soldee', 'Comande_soldee',\n",
              "       'Lignes_SUCF', 'Date_commande', 'Quantite_commandee',\n",
              "       'Date_reception_demandee', 'Annee_Reception',\n",
              "       'Date_reception_confirmee', 'Lignes_reception', 'Numero_reception',\n",
              "       'Date_reception', 'Quantites_receptionnees', 'Difference_date'],\n",
              "      dtype='object')"
            ]
          },
          "metadata": {},
          "execution_count": 12
        }
      ]
    },
    {
      "cell_type": "code",
      "metadata": {
        "id": "7hjCZcbG-FCq"
      },
      "source": [
        "DF_VF_GB[\"proportion_Rendement\"]=DF_VF_GB['Quantites_receptionnees']/ DF_VF_GB['Quantite_commandee']"
      ],
      "execution_count": null,
      "outputs": []
    },
    {
      "cell_type": "code",
      "metadata": {
        "colab": {
          "base_uri": "https://localhost:8080/",
          "height": 117
        },
        "id": "h7ZwHEt9_BhD",
        "outputId": "c9a3ea55-0c7c-4753-fbb6-3beface6932a"
      },
      "source": [
        "DF_VF_GB.head(1)"
      ],
      "execution_count": null,
      "outputs": [
        {
          "output_type": "execute_result",
          "data": {
            "text/html": [
              "<div>\n",
              "<style scoped>\n",
              "    .dataframe tbody tr th:only-of-type {\n",
              "        vertical-align: middle;\n",
              "    }\n",
              "\n",
              "    .dataframe tbody tr th {\n",
              "        vertical-align: top;\n",
              "    }\n",
              "\n",
              "    .dataframe thead th {\n",
              "        text-align: right;\n",
              "    }\n",
              "</style>\n",
              "<table border=\"1\" class=\"dataframe\">\n",
              "  <thead>\n",
              "    <tr style=\"text-align: right;\">\n",
              "      <th></th>\n",
              "      <th>Fournisseur</th>\n",
              "      <th>Numero_SUCF</th>\n",
              "      <th>Categorie</th>\n",
              "      <th>Article</th>\n",
              "      <th>Designation_1</th>\n",
              "      <th>Designation_2</th>\n",
              "      <th>Designation_3</th>\n",
              "      <th>Ligne_soldee</th>\n",
              "      <th>Comande_soldee</th>\n",
              "      <th>Lignes_SUCF</th>\n",
              "      <th>Date_commande</th>\n",
              "      <th>Quantite_commandee</th>\n",
              "      <th>Date_reception_demandee</th>\n",
              "      <th>Annee_Reception</th>\n",
              "      <th>Date_reception_confirmee</th>\n",
              "      <th>Lignes_reception</th>\n",
              "      <th>Numero_reception</th>\n",
              "      <th>Date_reception</th>\n",
              "      <th>Quantites_receptionnees</th>\n",
              "      <th>Difference_date</th>\n",
              "      <th>proportion_Rendement</th>\n",
              "    </tr>\n",
              "  </thead>\n",
              "  <tbody>\n",
              "    <tr>\n",
              "      <th>0</th>\n",
              "      <td>ACS Dobfar S.p.A</td>\n",
              "      <td>SUCF082035</td>\n",
              "      <td>PF</td>\n",
              "      <td>P00903</td>\n",
              "      <td>Meropenem 1g</td>\n",
              "      <td>bte 10</td>\n",
              "      <td>Substipharm FR</td>\n",
              "      <td>Oui</td>\n",
              "      <td>Oui</td>\n",
              "      <td>1</td>\n",
              "      <td>2021-07-02</td>\n",
              "      <td>2560</td>\n",
              "      <td>2021-07-20</td>\n",
              "      <td>2021</td>\n",
              "      <td>2021-07-20</td>\n",
              "      <td>1</td>\n",
              "      <td>1</td>\n",
              "      <td>2021-07-29</td>\n",
              "      <td>2631.0</td>\n",
              "      <td>-9</td>\n",
              "      <td>1.027734</td>\n",
              "    </tr>\n",
              "  </tbody>\n",
              "</table>\n",
              "</div>"
            ],
            "text/plain": [
              "        Fournisseur Numero_SUCF  ... Difference_date proportion_Rendement\n",
              "0  ACS Dobfar S.p.A  SUCF082035  ...              -9             1.027734\n",
              "\n",
              "[1 rows x 21 columns]"
            ]
          },
          "metadata": {},
          "execution_count": 14
        }
      ]
    },
    {
      "cell_type": "code",
      "metadata": {
        "id": "xPaD0T-z_3XB"
      },
      "source": [
        "DF_VF_GB[\"Taux_Rendement\"]= [1 if x > 0.95 else 0 for x in DF_VF_GB[\"proportion_Rendement\"]]"
      ],
      "execution_count": null,
      "outputs": []
    },
    {
      "cell_type": "code",
      "metadata": {
        "id": "bgK1QGH6BEB9"
      },
      "source": [
        "DF_VF_GB[\"Taux_Service\"]= [1 if x+7 > 0 else 0 for x in DF_VF_GB['Difference_date']]"
      ],
      "execution_count": null,
      "outputs": []
    },
    {
      "cell_type": "code",
      "metadata": {
        "id": "V_L4qM0QDESM"
      },
      "source": [
        "DF_VF_GB[\"OTIF_PO\"]= DF_VF_GB[\"Taux_Rendement\"]*DF_VF_GB[\"Taux_Service\"]"
      ],
      "execution_count": null,
      "outputs": []
    },
    {
      "cell_type": "code",
      "metadata": {
        "colab": {
          "base_uri": "https://localhost:8080/",
          "height": 117
        },
        "id": "Mqgrhd4rDQAl",
        "outputId": "7e48e713-f2f0-4a8b-d3ef-c4d34d90977d"
      },
      "source": [
        "DF_VF_GB.head(1)"
      ],
      "execution_count": null,
      "outputs": [
        {
          "output_type": "execute_result",
          "data": {
            "text/html": [
              "<div>\n",
              "<style scoped>\n",
              "    .dataframe tbody tr th:only-of-type {\n",
              "        vertical-align: middle;\n",
              "    }\n",
              "\n",
              "    .dataframe tbody tr th {\n",
              "        vertical-align: top;\n",
              "    }\n",
              "\n",
              "    .dataframe thead th {\n",
              "        text-align: right;\n",
              "    }\n",
              "</style>\n",
              "<table border=\"1\" class=\"dataframe\">\n",
              "  <thead>\n",
              "    <tr style=\"text-align: right;\">\n",
              "      <th></th>\n",
              "      <th>Fournisseur</th>\n",
              "      <th>Numero_SUCF</th>\n",
              "      <th>Categorie</th>\n",
              "      <th>Article</th>\n",
              "      <th>Designation_1</th>\n",
              "      <th>Designation_2</th>\n",
              "      <th>Designation_3</th>\n",
              "      <th>Ligne_soldee</th>\n",
              "      <th>Comande_soldee</th>\n",
              "      <th>Lignes_SUCF</th>\n",
              "      <th>Date_commande</th>\n",
              "      <th>Quantite_commandee</th>\n",
              "      <th>Date_reception_demandee</th>\n",
              "      <th>Annee_Reception</th>\n",
              "      <th>Date_reception_confirmee</th>\n",
              "      <th>Lignes_reception</th>\n",
              "      <th>Numero_reception</th>\n",
              "      <th>Date_reception</th>\n",
              "      <th>Quantites_receptionnees</th>\n",
              "      <th>Difference_date</th>\n",
              "      <th>proportion_Rendement</th>\n",
              "      <th>Taux_Rendement</th>\n",
              "      <th>Taux_Service</th>\n",
              "      <th>OTIF_PO</th>\n",
              "    </tr>\n",
              "  </thead>\n",
              "  <tbody>\n",
              "    <tr>\n",
              "      <th>0</th>\n",
              "      <td>ACS Dobfar S.p.A</td>\n",
              "      <td>SUCF082035</td>\n",
              "      <td>PF</td>\n",
              "      <td>P00903</td>\n",
              "      <td>Meropenem 1g</td>\n",
              "      <td>bte 10</td>\n",
              "      <td>Substipharm FR</td>\n",
              "      <td>Oui</td>\n",
              "      <td>Oui</td>\n",
              "      <td>1</td>\n",
              "      <td>2021-07-02</td>\n",
              "      <td>2560</td>\n",
              "      <td>2021-07-20</td>\n",
              "      <td>2021</td>\n",
              "      <td>2021-07-20</td>\n",
              "      <td>1</td>\n",
              "      <td>1</td>\n",
              "      <td>2021-07-29</td>\n",
              "      <td>2631.0</td>\n",
              "      <td>-9</td>\n",
              "      <td>1.027734</td>\n",
              "      <td>1</td>\n",
              "      <td>0</td>\n",
              "      <td>0</td>\n",
              "    </tr>\n",
              "  </tbody>\n",
              "</table>\n",
              "</div>"
            ],
            "text/plain": [
              "        Fournisseur Numero_SUCF  ... Taux_Service OTIF_PO\n",
              "0  ACS Dobfar S.p.A  SUCF082035  ...            0       0\n",
              "\n",
              "[1 rows x 24 columns]"
            ]
          },
          "metadata": {},
          "execution_count": 18
        }
      ]
    },
    {
      "cell_type": "code",
      "metadata": {
        "id": "cWbHf6PuP9AX"
      },
      "source": [
        "DF_VF_GB.to_csv(\"KPI_Fournisseur_BI.csv\", index=False, decimal = ',')"
      ],
      "execution_count": null,
      "outputs": []
    },
    {
      "cell_type": "code",
      "metadata": {
        "colab": {
          "base_uri": "https://localhost:8080/"
        },
        "id": "ylOEkZvOEZ3U",
        "outputId": "0ecc99cb-997f-4d13-d13f-f879afa8b81b"
      },
      "source": [
        "DF_VF_GB.columns"
      ],
      "execution_count": null,
      "outputs": [
        {
          "output_type": "execute_result",
          "data": {
            "text/plain": [
              "Index(['Fournisseur', 'Numero_SUCF', 'Categorie', 'Article', 'Designation_1',\n",
              "       'Designation_2', 'Designation_3', 'Ligne_soldee', 'Comande_soldee',\n",
              "       'Lignes_SUCF', 'Date_commande', 'Quantite_commandee',\n",
              "       'Date_reception_demandee', 'Annee_Reception',\n",
              "       'Date_reception_confirmee', 'Lignes_reception', 'Numero_reception',\n",
              "       'Date_reception', 'Quantites_receptionnees', 'Difference_date',\n",
              "       'proportion_Rendement', 'Taux_Rendement', 'Taux_Service', 'OTIF_PO'],\n",
              "      dtype='object')"
            ]
          },
          "metadata": {},
          "execution_count": 20
        }
      ]
    }
  ]
}